{
 "cells": [
  {
   "cell_type": "code",
   "execution_count": null,
   "metadata": {},
   "outputs": [],
   "source": [
    "import sys\n",
    "import math\n",
    "import numpy as np\n",
    "\n",
    "import Box2D\n",
    "from Box2D.b2 import fixtureDef\n",
    "from Box2D.b2 import polygonShape\n",
    "from Box2D.b2 import contactListener\n",
    "\n",
    "import gym\n",
    "from gym import spaces\n",
    "from gym.envs.box2d.car_dynamics import Car\n",
    "from gym.utils import seeding, EzPickle\n",
    "\n",
    "import pyglet\n",
    "\n",
    "pyglet.options[\"debug_gl\"] = False\n",
    "from pyglet import gl\n",
    "from pyglet.window import key"
   ]
  },
  {
   "cell_type": "code",
   "execution_count": null,
   "metadata": {},
   "outputs": [],
   "source": [
    "def key_press(k, mod):\n",
    "    global restart\n",
    "    if k == 0xFF0D:\n",
    "        restart = True\n",
    "    if k == key.LEFT:\n",
    "        a[0] = -1.0\n",
    "    if k == key.RIGHT:\n",
    "        a[0] = +1.0\n",
    "    if k == key.UP:\n",
    "        a[1] = +1.0\n",
    "    if k == key.DOWN:\n",
    "        a[2] = +0.8  # set 1.0 for wheels to block to zero rotation\n",
    "\n",
    "def key_release(k, mod):\n",
    "    if k == key.LEFT and a[0] == -1.0:\n",
    "        a[0] = 0\n",
    "    if k == key.RIGHT and a[0] == +1.0:\n",
    "        a[0] = 0\n",
    "    if k == key.UP:\n",
    "        a[1] = 0\n",
    "    if k == key.DOWN:\n",
    "        a[2] = 0"
   ]
  },
  {
   "cell_type": "code",
   "execution_count": null,
   "metadata": {},
   "outputs": [],
   "source": [
    "from pyglet.window import key\n",
    "from car_racing import *\n",
    "\n",
    "a = np.array([0.0, 0.0, 0.0])\n",
    "\n",
    "env = CarRacing()\n",
    "env.render()\n",
    "env.viewer.window.on_key_press = key_press\n",
    "env.viewer.window.on_key_release = key_release\n",
    "\n",
    "isopen = True\n",
    "while isopen:\n",
    "    env.reset()\n",
    "    total_reward = 0.0\n",
    "    steps = 0\n",
    "\n",
    "    while True:\n",
    "        s, r, done, info = env.step(a)\n",
    "        total_reward += r\n",
    "        if steps % 200 == 0 or done:\n",
    "            print(\"\\naction \" + str([\"{:+0.2f}\".format(x) for x in a]))\n",
    "            print(\"step {} total_reward {:+0.2f}\".format(steps, total_reward))\n",
    "        steps += 1\n",
    "        isopen = env.render()\n",
    "        if done or isopen == False:\n",
    "            break\n",
    "env.close()"
   ]
  },
  {
   "cell_type": "code",
   "execution_count": null,
   "metadata": {},
   "outputs": [],
   "source": [
    "from pyglet.window import key"
   ]
  },
  {
   "cell_type": "code",
   "execution_count": null,
   "metadata": {},
   "outputs": [],
   "source": [
    "import random\n",
    "import time\n",
    "from IPython.display import clear_output\n",
    "\n",
    "# Hyperparameters\n",
    "alpha = 0.1\n",
    "gamma = 0.6\n",
    "epsilon = 0.1\n",
    "\n",
    "# For plotting metrics\n",
    "all_epochs = []\n",
    "all_penalties = []\n",
    "\n",
    "for i in range(1, 100001):\n",
    "    state = env.reset()\n",
    "\n",
    "    epochs, penalties, reward, = 0, 0, 0\n",
    "    done = False\n",
    "    \n",
    "    while not done:\n",
    "        if random.uniform(0, 1) < epsilon:\n",
    "            action = env.action_space.sample() # Explore action space\n",
    "        else:\n",
    "            action = np.argmax(q_table[state]) # Exploit learned values\n",
    "\n",
    "        next_state, reward, done, info = env.step(action) \n",
    "        # env.render()\n",
    "        \n",
    "        old_value = q_table[state, action]\n",
    "        next_max = np.max(q_table[next_state])\n",
    "        \n",
    "        new_value = (1 - alpha) * old_value + alpha * (reward + gamma * next_max)\n",
    "        q_table[state, action] = new_value\n",
    "\n",
    "        if reward == -10:\n",
    "            penalties += 1\n",
    "\n",
    "        state = next_state\n",
    "        epochs += 1\n",
    "        \n",
    "    if i % 100 == 0:\n",
    "        clear_output(wait=True)\n",
    "        print(f\"Episode: {i}\", flush=True)\n",
    "        # time.sleep(0.1)\n",
    "\n",
    "# env.close()\n",
    "print(\"Training finished.\\n\")"
   ]
  }
 ],
 "metadata": {
  "kernelspec": {
   "display_name": "Python 3.8.10 ('venv': venv)",
   "language": "python",
   "name": "python3"
  },
  "language_info": {
   "codemirror_mode": {
    "name": "ipython",
    "version": 3
   },
   "file_extension": ".py",
   "mimetype": "text/x-python",
   "name": "python",
   "nbconvert_exporter": "python",
   "pygments_lexer": "ipython3",
   "version": "3.8.10"
  },
  "orig_nbformat": 4,
  "vscode": {
   "interpreter": {
    "hash": "f705859ade82a96f18dc958d5450191525d4211e120fa87a311061ba296b7b96"
   }
  }
 },
 "nbformat": 4,
 "nbformat_minor": 2
}
