{
 "cells": [
  {
   "cell_type": "code",
   "execution_count": 2,
   "metadata": {},
   "outputs": [],
   "source": [
    "import gym\n",
    "import random\n",
    "import numpy as np\n",
    "# import tensorflow as tf\n",
    "#import time\n",
    "from gym.envs.registration import register\n",
    "from IPython.display import clear_output\n",
    "from collections import deque"
   ]
  },
  {
   "cell_type": "code",
   "execution_count": 3,
   "metadata": {},
   "outputs": [
    {
     "name": "stderr",
     "output_type": "stream",
     "text": [
      "2022-07-12 15:48:51.167090: I tensorflow/core/util/util.cc:169] oneDNN custom operations are on. You may see slightly different numerical results due to floating-point round-off errors from different computation orders. To turn them off, set the environment variable `TF_ENABLE_ONEDNN_OPTS=0`.\n",
      "2022-07-12 15:48:51.218572: W tensorflow/stream_executor/platform/default/dso_loader.cc:64] Could not load dynamic library 'libcudart.so.11.0'; dlerror: libcudart.so.11.0: cannot open shared object file: No such file or directory; LD_LIBRARY_PATH: /home/fernandagitai/Documents/ufal/ML/ML-Reinforcement/venv/lib/python3.8/site-packages/cv2/../../lib64:\n",
      "2022-07-12 15:48:51.218585: I tensorflow/stream_executor/cuda/cudart_stub.cc:29] Ignore above cudart dlerror if you do not have a GPU set up on your machine.\n",
      "/home/fernandagitai/Documents/ufal/ML/ML-Reinforcement/venv/lib/python3.8/site-packages/flatbuffers/compat.py:19: DeprecationWarning: the imp module is deprecated in favour of importlib; see the module's documentation for alternative uses\n",
      "  import imp\n",
      "/home/fernandagitai/Documents/ufal/ML/ML-Reinforcement/venv/lib/python3.8/site-packages/keras/utils/image_utils.py:36: DeprecationWarning: NEAREST is deprecated and will be removed in Pillow 10 (2023-07-01). Use Resampling.NEAREST or Dither.NONE instead.\n",
      "  'nearest': pil_image.NEAREST,\n",
      "/home/fernandagitai/Documents/ufal/ML/ML-Reinforcement/venv/lib/python3.8/site-packages/keras/utils/image_utils.py:37: DeprecationWarning: BILINEAR is deprecated and will be removed in Pillow 10 (2023-07-01). Use Resampling.BILINEAR instead.\n",
      "  'bilinear': pil_image.BILINEAR,\n",
      "/home/fernandagitai/Documents/ufal/ML/ML-Reinforcement/venv/lib/python3.8/site-packages/keras/utils/image_utils.py:38: DeprecationWarning: BICUBIC is deprecated and will be removed in Pillow 10 (2023-07-01). Use Resampling.BICUBIC instead.\n",
      "  'bicubic': pil_image.BICUBIC,\n",
      "/home/fernandagitai/Documents/ufal/ML/ML-Reinforcement/venv/lib/python3.8/site-packages/keras/utils/image_utils.py:39: DeprecationWarning: HAMMING is deprecated and will be removed in Pillow 10 (2023-07-01). Use Resampling.HAMMING instead.\n",
      "  'hamming': pil_image.HAMMING,\n",
      "/home/fernandagitai/Documents/ufal/ML/ML-Reinforcement/venv/lib/python3.8/site-packages/keras/utils/image_utils.py:40: DeprecationWarning: BOX is deprecated and will be removed in Pillow 10 (2023-07-01). Use Resampling.BOX instead.\n",
      "  'box': pil_image.BOX,\n",
      "/home/fernandagitai/Documents/ufal/ML/ML-Reinforcement/venv/lib/python3.8/site-packages/keras/utils/image_utils.py:41: DeprecationWarning: LANCZOS is deprecated and will be removed in Pillow 10 (2023-07-01). Use Resampling.LANCZOS instead.\n",
      "  'lanczos': pil_image.LANCZOS,\n"
     ]
    },
    {
     "name": "stdout",
     "output_type": "stream",
     "text": [
      "WARNING:tensorflow:From /home/fernandagitai/Documents/ufal/ML/ML-Reinforcement/venv/lib/python3.8/site-packages/tensorflow/python/compat/v2_compat.py:107: disable_resource_variables (from tensorflow.python.ops.variable_scope) is deprecated and will be removed in a future version.\n",
      "Instructions for updating:\n",
      "non-resource variables are not supported in the long term\n"
     ]
    }
   ],
   "source": [
    "import tensorflow.compat.v1 as tf\n",
    "tf.disable_v2_behavior() # use Tensorflow v1"
   ]
  },
  {
   "cell_type": "code",
   "execution_count": 4,
   "metadata": {},
   "outputs": [],
   "source": [
    "tf.compat.v1.disable_eager_execution() "
   ]
  },
  {
   "cell_type": "code",
   "execution_count": 5,
   "metadata": {},
   "outputs": [],
   "source": [
    "class Agent():\n",
    "  def __init__(self, env):\n",
    "\n",
    "    self.is_discrete = type(env.action_space) == gym.spaces.discrete.Discrete\n",
    "\n",
    "    if self.is_discrete:\n",
    "      self.action_size = env.action_space.n\n",
    "\n",
    "    else:\n",
    "      self.action_low = env.action_space.low\n",
    "      self.action_high = env.action_space.high\n",
    "      self.action_shape = env.action_space.shape\n",
    "  \n",
    "  def get_action(self, state):\n",
    "\n",
    "    if self.is_discrete:\n",
    "      #Acao randomica\n",
    "      action = random.choice(range(self.action_size))\n",
    "    else:\n",
    "      action = np.random.uniform(self.action_low, self.action_high, self.action_shape)\n",
    "\n",
    "    return action"
   ]
  },
  {
   "cell_type": "code",
   "execution_count": 6,
   "metadata": {},
   "outputs": [],
   "source": [
    "class QNAgent(Agent):\n",
    "    def __init__(self, env, discount_rate=0.97, learning_rate=0.001):\n",
    "        super().__init__(env)\n",
    "        self.state_size = env.observation_space.n\n",
    "        print(\"State size:\", self.state_size)\n",
    "        \n",
    "        self.eps = 1.0\n",
    "        self.discount_rate = discount_rate\n",
    "        self.learning_rate = learning_rate\n",
    "        self.build_model()\n",
    "\n",
    "        self.sess = tf.compat.v1.Session()\n",
    "        self.sess.run(tf.compat.v1.global_variables_initializer())\n",
    "\n",
    "        self.replay_buffer = deque(maxlen=10000)\n",
    "        \n",
    "    def build_model(self):\n",
    "        tf.compat.v1.reset_default_graph()\n",
    "        self.state_in = tf.compat.v1.placeholder(tf.int32, [None])\n",
    "        self.action_in = tf.compat.v1.placeholder(tf.int32, [None])\n",
    "        self.target_in = tf.compat.v1.placeholder(tf.float32, [None])\n",
    "\n",
    "        self.state = tf.one_hot(self.state_in, depth = self.state_size)\n",
    "        self.action = tf.one_hot(self.action_in, depth = self.action_size)\n",
    "\n",
    "        self.q_state = tf.compat.v1.layers.dense(self.state, units = self.action_size, name = \"q_table\")\n",
    "        self.q_action = tf.reduce_sum(tf.multiply(self.q_state, self.action), axis = 1)\n",
    "\n",
    "        self.loss = tf.reduce_sum(tf.square(self.target_in - self.q_action))\n",
    "        self.optimizer = tf.compat.v1.train.AdamOptimizer(self.learning_rate).minimize(self.loss)\n",
    "        \n",
    "    def get_action(self, state):\n",
    "        # q_state = self.q_table[state]\n",
    "        q_state = self.sess.run(self.q_state, feed_dict={self.state_in: [state]})\n",
    "        action_greedy = np.argmax(q_state)\n",
    "        action_random = super().get_action(state)\n",
    "        return action_random if random.random() < self.eps else action_greedy\n",
    "    \n",
    "    def train(self, experience, batch_size=50):\n",
    "        self.replay_buffer.append(experience)\n",
    "        samples = random.choices(self.replay_buffer, k=batch_size)\n",
    "        state, action, next_state, reward, done = (list(col) for col in zip(experience, *samples))\n",
    "        \n",
    "        q_next = self.sess.run(self.q_state, feed_dict={self.state_in: next_state})\n",
    "        q_next[done] = np.zeros([self.action_size])\n",
    "        q_target = reward + self.discount_rate * np.max(q_next, axis =1)\n",
    "\n",
    "        feed = {self.state_in: state, self.action_in: action, self.target_in: q_target}\n",
    "        self.sess.run(self.optimizer, feed_dict=feed)\n",
    "        \n",
    "        if experience[4]:\n",
    "            self.eps = self.eps * 0.99\n",
    "\n",
    "    def __del__(self):\n",
    "        self.sess.close()"
   ]
  },
  {
   "cell_type": "code",
   "execution_count": 12,
   "metadata": {},
   "outputs": [
    {
     "name": "stdout",
     "output_type": "stream",
     "text": [
      "State size: 64\n",
      "Observation space: Discrete(64)\n",
      "Action space: Discrete(4)\n"
     ]
    },
    {
     "name": "stderr",
     "output_type": "stream",
     "text": [
      "/tmp/ipykernel_16880/640231698.py:26: UserWarning: `tf.layers.dense` is deprecated and will be removed in a future version. Please use `tf.keras.layers.Dense` instead.\n",
      "  self.q_state = tf.compat.v1.layers.dense(self.state, units = self.action_size, name = \"q_table\")\n"
     ]
    }
   ],
   "source": [
    "# env = gym.make('FrozenLake-v1', is_slippery=True, map_name='4x4')\n",
    "env = gym.make('FrozenLake-v1', is_slippery=True, map_name='8x8')\n",
    "agent = QNAgent(env)\n",
    "print(\"Observation space:\", env.observation_space)\n",
    "print(\"Action space:\", env.action_space)"
   ]
  },
  {
   "cell_type": "code",
   "execution_count": 14,
   "metadata": {},
   "outputs": [
    {
     "name": "stdout",
     "output_type": "stream",
     "text": [
      "s: 46 a: 2\n",
      "Episode: 299, Total reward: 102.0, eps: 0.002405009291311067\n",
      "[[ 1.54020060e-02 -1.39644491e-02 -4.04188298e-02 -1.01721743e-02]\n",
      " [ 1.47264246e-02 -1.10188164e-02 -3.58215272e-02 -8.29403847e-03]\n",
      " [ 2.51656920e-02 -5.75790182e-03 -3.28460336e-02 -4.85578924e-03]\n",
      " [-8.40914086e-04  3.64607922e-03 -1.87608823e-02  2.10211403e-03]\n",
      " [ 3.27999182e-02  1.95628908e-02 -3.41291539e-03  1.65083408e-02]\n",
      " [ 6.52983263e-02  2.96030957e-02  1.08784623e-02  3.47621106e-02]\n",
      " [ 7.21552670e-02  4.21273932e-02  2.03960463e-02  2.08594017e-02]\n",
      " [ 7.86524415e-02  5.11244014e-02  3.23383100e-02  4.83799353e-02]\n",
      " [ 7.04795728e-03 -2.16180161e-02 -4.43882644e-02 -1.38280177e-02]\n",
      " [ 4.28885315e-03 -2.28600968e-02 -4.04414013e-02 -1.00907451e-02]\n",
      " [-3.34464200e-02 -3.84249389e-02 -4.46309410e-02 -6.03523990e-03]\n",
      " [-6.99154809e-02 -1.17733166e-01 -5.52530736e-02  3.05490772e-04]\n",
      " [ 3.87766100e-02  1.34623526e-02 -5.53117692e-03  1.97186489e-02]\n",
      " [ 4.65569422e-02  3.69274914e-02  1.44754024e-02  4.08954732e-02]\n",
      " [ 6.54157326e-02  5.56075722e-02  3.41530330e-02  2.84172390e-02]\n",
      " [ 1.04512930e-01  6.61523789e-02  4.42449115e-02  5.61121367e-02]\n",
      " [-8.61366920e-04 -3.23791020e-02 -5.64989634e-02 -2.57472694e-02]\n",
      " [-7.32012652e-03 -3.17165963e-02 -5.62941842e-02 -3.05170901e-02]\n",
      " [-3.02683306e-03 -8.63998383e-02 -7.50076175e-02 -1.20976515e-01]\n",
      " [ 1.72744930e-01  2.65045583e-01 -2.93326408e-01 -2.57047355e-01]\n",
      " [-3.17195095e-02 -1.16075091e-01 -1.39720272e-02 -1.07867569e-01]\n",
      " [ 4.41602245e-02 -1.71979770e-01 -1.44930467e-01  4.50935215e-02]\n",
      " [ 6.01793267e-02  7.52186626e-02  4.61217687e-02  3.17925550e-02]\n",
      " [ 8.37175623e-02  9.97932851e-02  7.42248669e-02  7.25596696e-02]\n",
      " [-5.75432414e-03 -3.77196893e-02 -6.17241152e-02 -3.49046513e-02]\n",
      " [-6.56511262e-03 -3.64517346e-02 -8.93341154e-02 -3.82750034e-02]\n",
      " [-1.90649498e-02 -8.08029994e-02 -9.14945602e-02 -4.94848602e-02]\n",
      " [-1.79446161e-01 -7.53780603e-02 -2.18659356e-01 -8.09836686e-02]\n",
      " [-6.54590083e-03 -8.34335014e-02 -1.80377185e-01 -1.49932399e-01]\n",
      " [-8.72265995e-02 -4.48592901e-02  1.00026965e-01  6.42558932e-03]\n",
      " [ 1.04575545e-01  4.19688672e-02  7.21746981e-02  6.84358925e-02]\n",
      " [ 1.09111793e-01  1.41689956e-01  1.02988809e-01  9.61348265e-02]\n",
      " [-8.05336889e-03 -5.62554933e-02 -7.16462284e-02 -3.67221385e-02]\n",
      " [-9.22104269e-02 -1.85453117e-01 -1.98014960e-01 -3.59436497e-02]\n",
      " [-1.28055662e-01 -2.04191580e-01 -9.52419341e-02 -1.47343397e-01]\n",
      " [-2.96501577e-01 -5.44201732e-02  1.91293329e-01  2.41272926e-01]\n",
      " [-7.54670352e-02 -1.13081150e-01 -3.57277282e-02 -1.14166372e-01]\n",
      " [-1.38430119e-01  1.22066122e-02 -1.84050128e-01 -6.09856993e-02]\n",
      " [ 6.38370926e-04 -9.89052653e-03  7.75819719e-02  8.53302926e-02]\n",
      " [-9.79806483e-02  1.87200293e-01  1.82625622e-01  1.74326986e-01]\n",
      " [-2.19180621e-02 -1.63852736e-01 -1.97787553e-01 -1.50392845e-01]\n",
      " [ 4.40169573e-02 -4.27903831e-02 -7.69766271e-02  2.11346924e-01]\n",
      " [-3.53401899e-03 -2.84126997e-02 -2.90906459e-01 -5.34848422e-02]\n",
      " [-1.56502351e-01 -2.52774358e-01 -1.11378960e-01 -1.48914844e-01]\n",
      " [-2.91091651e-01 -1.52443752e-01 -1.01265132e-01 -3.20291333e-02]\n",
      " [ 9.75273922e-03 -1.88813552e-01 -1.71548948e-01 -1.70635417e-01]\n",
      " [-8.77148360e-02  6.04946315e-02 -1.45775273e-01 -2.84399718e-01]\n",
      " [-1.29913241e-01  3.09680194e-01  3.17678660e-01  2.46120319e-01]\n",
      " [-4.02773619e-02 -2.18119830e-01 -1.46724731e-01 -5.90625182e-02]\n",
      " [ 2.70981550e-01  3.37926745e-02 -1.41139135e-01  1.21675283e-01]\n",
      " [-2.87821889e-03 -1.38764843e-01 -1.94735914e-01 -1.39127240e-01]\n",
      " [-1.33997193e-02 -1.40832633e-01 -1.94568649e-01 -9.15242359e-02]\n",
      " [ 8.23029876e-03  2.53666162e-01  6.14911318e-02 -2.02912644e-01]\n",
      " [ 2.94527020e-02 -1.93632543e-01 -1.95549205e-01 -2.22214088e-01]\n",
      " [ 1.40965909e-01 -2.51871973e-01  2.65302956e-01 -5.12117147e-02]\n",
      " [ 4.84927237e-01  2.29144394e-01  5.11820972e-01  4.77404892e-01]\n",
      " [-7.97840804e-02 -8.25832561e-02 -1.37248099e-01 -6.77547529e-02]\n",
      " [-8.76813382e-02 -1.43118173e-01 -1.63673535e-01 -1.43377513e-01]\n",
      " [-8.78086835e-02 -1.77362040e-01 -2.72871137e-01 -1.43672734e-01]\n",
      " [-1.16002560e-02  2.42507696e-01 -1.19994074e-01  2.12363183e-01]\n",
      " [ 6.24348223e-02 -4.45274450e-02 -2.31893390e-01 -2.53679812e-01]\n",
      " [ 5.66489100e-02 -2.55887769e-02 -2.34812349e-01 -7.25134909e-02]\n",
      " [-9.37352479e-02 -1.94004446e-01 -1.55270308e-01 -1.16542123e-01]\n",
      " [-1.92008704e-01  1.44186556e-01 -1.31086886e-01 -2.77499855e-01]]\n"
     ]
    }
   ],
   "source": [
    "total_reward = 0\n",
    "for ep in range(300):\n",
    "    state = env.reset()\n",
    "    done = False\n",
    "    while not done:\n",
    "        action = agent.get_action(state)\n",
    "        next_state, reward, done, info = env.step(action)\n",
    "        agent.train((state,action,next_state,reward,done))\n",
    "        state = next_state\n",
    "        total_reward += reward\n",
    "        print(\"s:\", state, \"a:\", action)\n",
    "        print(\"Episode: {}, Total reward: {}, eps: {}\".format(ep,total_reward,agent.eps))\n",
    "        env.render()\n",
    "\n",
    "        with tf.compat.v1.variable_scope(\"q_table\", reuse = True):\n",
    "            weights = agent.sess.run(tf.compat.v1.get_variable(\"kernel\"))\n",
    "            print(weights)\n",
    "            # scope.reuse_variables()\n",
    "        #print(agent.q_table)\n",
    "        clear_output(wait=True)"
   ]
  },
  {
   "cell_type": "code",
   "execution_count": 15,
   "metadata": {},
   "outputs": [],
   "source": [
    "env.close()"
   ]
  },
  {
   "cell_type": "code",
   "execution_count": null,
   "metadata": {},
   "outputs": [],
   "source": []
  }
 ],
 "metadata": {
  "kernelspec": {
   "display_name": "Python 3.8.10 ('venv': venv)",
   "language": "python",
   "name": "python3"
  },
  "language_info": {
   "codemirror_mode": {
    "name": "ipython",
    "version": 3
   },
   "file_extension": ".py",
   "mimetype": "text/x-python",
   "name": "python",
   "nbconvert_exporter": "python",
   "pygments_lexer": "ipython3",
   "version": "3.8.10"
  },
  "orig_nbformat": 4,
  "vscode": {
   "interpreter": {
    "hash": "f705859ade82a96f18dc958d5450191525d4211e120fa87a311061ba296b7b96"
   }
  }
 },
 "nbformat": 4,
 "nbformat_minor": 2
}
