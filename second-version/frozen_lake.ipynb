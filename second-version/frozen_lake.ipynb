{
 "cells": [
  {
   "cell_type": "code",
   "execution_count": 1,
   "metadata": {},
   "outputs": [],
   "source": [
    "import gym\n",
    "import random\n",
    "import numpy as np\n",
    "# import tensorflow as tf\n",
    "#import time\n",
    "from gym.envs.registration import register\n",
    "from IPython.display import clear_output\n",
    "from collections import deque"
   ]
  },
  {
   "cell_type": "code",
   "execution_count": 2,
   "metadata": {},
   "outputs": [
    {
     "name": "stderr",
     "output_type": "stream",
     "text": [
      "2022-07-11 19:31:02.859634: I tensorflow/core/util/util.cc:169] oneDNN custom operations are on. You may see slightly different numerical results due to floating-point round-off errors from different computation orders. To turn them off, set the environment variable `TF_ENABLE_ONEDNN_OPTS=0`.\n",
      "2022-07-11 19:31:02.862753: W tensorflow/stream_executor/platform/default/dso_loader.cc:64] Could not load dynamic library 'libcudart.so.11.0'; dlerror: libcudart.so.11.0: cannot open shared object file: No such file or directory; LD_LIBRARY_PATH: /home/fernandagitai/Documents/ufal/ML/ML-Reinforcement/venv/lib/python3.8/site-packages/cv2/../../lib64:\n",
      "2022-07-11 19:31:02.862763: I tensorflow/stream_executor/cuda/cudart_stub.cc:29] Ignore above cudart dlerror if you do not have a GPU set up on your machine.\n",
      "/home/fernandagitai/Documents/ufal/ML/ML-Reinforcement/venv/lib/python3.8/site-packages/flatbuffers/compat.py:19: DeprecationWarning: the imp module is deprecated in favour of importlib; see the module's documentation for alternative uses\n",
      "  import imp\n",
      "/home/fernandagitai/Documents/ufal/ML/ML-Reinforcement/venv/lib/python3.8/site-packages/keras/utils/image_utils.py:36: DeprecationWarning: NEAREST is deprecated and will be removed in Pillow 10 (2023-07-01). Use Resampling.NEAREST or Dither.NONE instead.\n",
      "  'nearest': pil_image.NEAREST,\n",
      "/home/fernandagitai/Documents/ufal/ML/ML-Reinforcement/venv/lib/python3.8/site-packages/keras/utils/image_utils.py:37: DeprecationWarning: BILINEAR is deprecated and will be removed in Pillow 10 (2023-07-01). Use Resampling.BILINEAR instead.\n",
      "  'bilinear': pil_image.BILINEAR,\n",
      "/home/fernandagitai/Documents/ufal/ML/ML-Reinforcement/venv/lib/python3.8/site-packages/keras/utils/image_utils.py:38: DeprecationWarning: BICUBIC is deprecated and will be removed in Pillow 10 (2023-07-01). Use Resampling.BICUBIC instead.\n",
      "  'bicubic': pil_image.BICUBIC,\n",
      "/home/fernandagitai/Documents/ufal/ML/ML-Reinforcement/venv/lib/python3.8/site-packages/keras/utils/image_utils.py:39: DeprecationWarning: HAMMING is deprecated and will be removed in Pillow 10 (2023-07-01). Use Resampling.HAMMING instead.\n",
      "  'hamming': pil_image.HAMMING,\n",
      "/home/fernandagitai/Documents/ufal/ML/ML-Reinforcement/venv/lib/python3.8/site-packages/keras/utils/image_utils.py:40: DeprecationWarning: BOX is deprecated and will be removed in Pillow 10 (2023-07-01). Use Resampling.BOX instead.\n",
      "  'box': pil_image.BOX,\n",
      "/home/fernandagitai/Documents/ufal/ML/ML-Reinforcement/venv/lib/python3.8/site-packages/keras/utils/image_utils.py:41: DeprecationWarning: LANCZOS is deprecated and will be removed in Pillow 10 (2023-07-01). Use Resampling.LANCZOS instead.\n",
      "  'lanczos': pil_image.LANCZOS,\n"
     ]
    },
    {
     "name": "stdout",
     "output_type": "stream",
     "text": [
      "WARNING:tensorflow:From /home/fernandagitai/Documents/ufal/ML/ML-Reinforcement/venv/lib/python3.8/site-packages/tensorflow/python/compat/v2_compat.py:107: disable_resource_variables (from tensorflow.python.ops.variable_scope) is deprecated and will be removed in a future version.\n",
      "Instructions for updating:\n",
      "non-resource variables are not supported in the long term\n"
     ]
    }
   ],
   "source": [
    "import tensorflow.compat.v1 as tf\n",
    "tf.disable_v2_behavior() # use Tensorflow v1"
   ]
  },
  {
   "cell_type": "code",
   "execution_count": 3,
   "metadata": {},
   "outputs": [],
   "source": [
    "tf.compat.v1.disable_eager_execution() "
   ]
  },
  {
   "cell_type": "code",
   "execution_count": 4,
   "metadata": {},
   "outputs": [],
   "source": [
    "class Agent():\n",
    "  def __init__(self, env):\n",
    "\n",
    "    self.is_discrete = type(env.action_space) == gym.spaces.discrete.Discrete\n",
    "\n",
    "    if self.is_discrete:\n",
    "      self.action_size = env.action_space.n\n",
    "\n",
    "    else:\n",
    "      self.action_low = env.action_space.low\n",
    "      self.action_high = env.action_space.high\n",
    "      self.action_shape = env.action_space.shape\n",
    "  \n",
    "  def get_action(self, state):\n",
    "\n",
    "    if self.is_discrete:\n",
    "      #Acao randomica\n",
    "      action = random.choice(range(self.action_size))\n",
    "    else:\n",
    "      action = np.random.uniform(self.action_low, self.action_high, self.action_shape)\n",
    "\n",
    "    return action"
   ]
  },
  {
   "cell_type": "code",
   "execution_count": 5,
   "metadata": {},
   "outputs": [],
   "source": [
    "class QNAgent(Agent):\n",
    "    def __init__(self, env, discount_rate=0.97, learning_rate=0.001):\n",
    "        super().__init__(env)\n",
    "        self.state_size = env.observation_space.n\n",
    "        print(\"State size:\", self.state_size)\n",
    "        \n",
    "        self.eps = 1.0\n",
    "        self.discount_rate = discount_rate\n",
    "        self.learning_rate = learning_rate\n",
    "        self.build_model()\n",
    "\n",
    "        self.sess = tf.compat.v1.Session()\n",
    "        self.sess.run(tf.compat.v1.global_variables_initializer())\n",
    "\n",
    "        self.replay_buffer = deque(maxlen=10000)\n",
    "        \n",
    "    def build_model(self):\n",
    "        tf.compat.v1.reset_default_graph()\n",
    "        self.state_in = tf.compat.v1.placeholder(tf.int32, [None])\n",
    "        self.action_in = tf.compat.v1.placeholder(tf.int32, [None])\n",
    "        self.target_in = tf.compat.v1.placeholder(tf.float32, [None])\n",
    "\n",
    "        self.state = tf.one_hot(self.state_in, depth = self.state_size)\n",
    "        self.action = tf.one_hot(self.action_in, depth = self.action_size)\n",
    "\n",
    "        self.q_state = tf.compat.v1.layers.dense(self.state, units = self.action_size, name = \"q_table\")\n",
    "        self.q_action = tf.reduce_sum(tf.multiply(self.q_state, self.action), axis = 1)\n",
    "\n",
    "        self.loss = tf.reduce_sum(tf.square(self.target_in - self.q_action))\n",
    "        self.optimizer = tf.compat.v1.train.AdamOptimizer(self.learning_rate).minimize(self.loss)\n",
    "        \n",
    "    def get_action(self, state):\n",
    "        # q_state = self.q_table[state]\n",
    "        q_state = self.sess.run(self.q_state, feed_dict={self.state_in: [state]})\n",
    "        action_greedy = np.argmax(q_state)\n",
    "        action_random = super().get_action(state)\n",
    "        return action_random if random.random() < self.eps else action_greedy\n",
    "    \n",
    "    def train(self, experience, batch_size=50):\n",
    "        self.replay_buffer.append(experience)\n",
    "        samples = random.choices(self.replay_buffer, k=batch_size)\n",
    "        state, action, next_state, reward, done = (list(col) for col in zip(experience, *samples))\n",
    "        \n",
    "        q_next = self.sess.run(self.q_state, feed_dict={self.state_in: next_state})\n",
    "        q_next[done] = np.zeros([self.action_size])\n",
    "        q_target = reward + self.discount_rate * np.max(q_next, axis =1)\n",
    "\n",
    "        feed = {self.state_in: state, self.action_in: action, self.target_in: q_target}\n",
    "        self.sess.run(self.optimizer, feed_dict=feed)\n",
    "        \n",
    "        if experience[4]:\n",
    "            self.eps = self.eps * 0.99\n",
    "\n",
    "    def __del__(self):\n",
    "        self.sess.close()"
   ]
  },
  {
   "cell_type": "code",
   "execution_count": 13,
   "metadata": {},
   "outputs": [
    {
     "name": "stdout",
     "output_type": "stream",
     "text": [
      "State size: 16\n",
      "Observation space: Discrete(16)\n",
      "Action space: Discrete(4)\n"
     ]
    },
    {
     "name": "stderr",
     "output_type": "stream",
     "text": [
      "/tmp/ipykernel_121276/2122706099.py:27: UserWarning: `tf.layers.dense` is deprecated and will be removed in a future version. Please use `tf.keras.layers.Dense` instead.\n",
      "  self.q_state = tf.compat.v1.layers.dense(self.state, units = self.action_size, name = \"q_table\")\n"
     ]
    }
   ],
   "source": [
    "env = gym.make('FrozenLake-v1', is_slippery=True, map_name='4x4')\n",
    "# env = gym.make('FrozenLake-v1', is_slippery=True, map_name='8x8')\n",
    "agent = QNAgent(env)\n",
    "print(\"Observation space:\", env.observation_space)\n",
    "print(\"Action space:\", env.action_space)"
   ]
  },
  {
   "cell_type": "code",
   "execution_count": 15,
   "metadata": {},
   "outputs": [
    {
     "name": "stdout",
     "output_type": "stream",
     "text": [
      "s: 7 a: 2\n",
      "Episode: 99, Total reward: 12.0, eps: 0.13397967485796175\n",
      "[[-0.02066821 -0.07625312 -0.09003542 -0.11305766]\n",
      " [-0.11159261 -0.17920475 -0.18715    -0.11419608]\n",
      " [-0.0239376  -0.07559817 -0.09798582 -0.11070468]\n",
      " [-0.12021001 -0.1841866  -0.2421692  -0.11428628]\n",
      " [-0.00133055 -0.1674994  -0.125471   -0.16606429]\n",
      " [ 0.01337498 -0.01913208  0.2875983   0.06674117]\n",
      " [-0.13078278 -0.23089011 -0.07221932 -0.21596447]\n",
      " [ 0.2139219  -0.40660426 -0.30039442 -0.17153847]\n",
      " [-0.03353601 -0.08512703 -0.088287   -0.0344838 ]\n",
      " [ 0.04966659  0.11832376 -0.04730106 -0.05061626]\n",
      " [ 0.21794666  0.14041428 -0.05625635 -0.15575044]\n",
      " [-0.1300005  -0.30310747 -0.11734465  0.4093197 ]\n",
      " [-0.10793218  0.3925612  -0.33868754 -0.04820457]\n",
      " [ 0.10419398 -0.02120613  0.21731031 -0.09222919]\n",
      " [ 0.31674993  0.42697054  0.25841743 -0.00764201]\n",
      " [-0.20710576 -0.29734662  0.22385395  0.47462702]]\n"
     ]
    }
   ],
   "source": [
    "total_reward = 0\n",
    "for ep in range(300):\n",
    "    state = env.reset()\n",
    "    done = False\n",
    "    while not done:\n",
    "        action = agent.get_action(state)\n",
    "        next_state, reward, done, info = env.step(action)\n",
    "        agent.train((state,action,next_state,reward,done))\n",
    "        state = next_state\n",
    "        total_reward += reward\n",
    "        print(\"s:\", state, \"a:\", action)\n",
    "        print(\"Episode: {}, Total reward: {}, eps: {}\".format(ep,total_reward,agent.eps))\n",
    "        env.render()\n",
    "\n",
    "        with tf.compat.v1.variable_scope(\"q_table\", reuse = True):\n",
    "            weights = agent.sess.run(tf.compat.v1.get_variable(\"kernel\"))\n",
    "            print(weights)\n",
    "            # scope.reuse_variables()\n",
    "        #print(agent.q_table)\n",
    "        clear_output(wait=True)\n",
    "env.close()"
   ]
  }
 ],
 "metadata": {
  "kernelspec": {
   "display_name": "Python 3.8.10 ('venv': venv)",
   "language": "python",
   "name": "python3"
  },
  "language_info": {
   "codemirror_mode": {
    "name": "ipython",
    "version": 3
   },
   "file_extension": ".py",
   "mimetype": "text/x-python",
   "name": "python",
   "nbconvert_exporter": "python",
   "pygments_lexer": "ipython3",
   "version": "3.8.10"
  },
  "orig_nbformat": 4,
  "vscode": {
   "interpreter": {
    "hash": "f705859ade82a96f18dc958d5450191525d4211e120fa87a311061ba296b7b96"
   }
  }
 },
 "nbformat": 4,
 "nbformat_minor": 2
}
