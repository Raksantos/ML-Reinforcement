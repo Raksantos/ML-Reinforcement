{
 "cells": [
  {
   "cell_type": "code",
   "execution_count": 7,
   "metadata": {},
   "outputs": [],
   "source": [
    "import gym\n",
    "import random\n",
    "import numpy as np\n",
    "# import tensorflow as tf\n",
    "#import time\n",
    "from gym.envs.registration import register\n",
    "from IPython.display import clear_output"
   ]
  },
  {
   "cell_type": "code",
   "execution_count": 43,
   "metadata": {},
   "outputs": [
    {
     "name": "stdout",
     "output_type": "stream",
     "text": [
      "WARNING:tensorflow:From /home/fernandagitai/Documents/ufal/ML/ML-Reinforcement/venv/lib/python3.8/site-packages/tensorflow/python/compat/v2_compat.py:107: disable_resource_variables (from tensorflow.python.ops.variable_scope) is deprecated and will be removed in a future version.\n",
      "Instructions for updating:\n",
      "non-resource variables are not supported in the long term\n"
     ]
    }
   ],
   "source": [
    "import tensorflow.compat.v1 as tf\n",
    "tf.disable_v2_behavior() # use Tensorflow v1"
   ]
  },
  {
   "cell_type": "code",
   "execution_count": 44,
   "metadata": {},
   "outputs": [],
   "source": [
    "tf.compat.v1.disable_eager_execution() "
   ]
  },
  {
   "cell_type": "code",
   "execution_count": 45,
   "metadata": {},
   "outputs": [],
   "source": [
    "class Agent():\n",
    "  def __init__(self, env):\n",
    "\n",
    "    self.is_discrete = type(env.action_space) == gym.spaces.discrete.Discrete\n",
    "\n",
    "    if self.is_discrete:\n",
    "      self.action_size = env.action_space.n\n",
    "\n",
    "    else:\n",
    "      self.action_low = env.action_space.low\n",
    "      self.action_high = env.action_space.high\n",
    "      self.action_shape = env.action_space.shape\n",
    "  \n",
    "  def get_action(self, state):\n",
    "\n",
    "    if self.is_discrete:\n",
    "      #Acao randomica\n",
    "      action = random.choice(range(self.action_size))\n",
    "    else:\n",
    "      action = np.random.uniform(self.action_low, self.action_high, self.action_shape)\n",
    "\n",
    "    return action"
   ]
  },
  {
   "cell_type": "code",
   "execution_count": 60,
   "metadata": {},
   "outputs": [],
   "source": [
    "class QNAgent(Agent):\n",
    "    def __init__(self, env, discount_rate=0.97, learning_rate=0.01):\n",
    "        super().__init__(env)\n",
    "        self.state_size = env.observation_space.n\n",
    "        print(\"State size:\", self.state_size)\n",
    "        \n",
    "        self.eps = 1.0\n",
    "        self.discount_rate = discount_rate\n",
    "        self.learning_rate = learning_rate\n",
    "        self.build_model()\n",
    "\n",
    "        self.sess = tf.compat.v1.Session()\n",
    "        self.sess.run(tf.compat.v1.global_variables_initializer())\n",
    "        \n",
    "    def build_model(self):\n",
    "        # self.q_table = 1e-4*np.random.random([self.state_size, self.action_size])\n",
    "        tf.compat.v1.reset_default_graph()\n",
    "        self.state_in = tf.compat.v1.placeholder(tf.int32, [1])\n",
    "        self.action_in = tf.compat.v1.placeholder(tf.int32, [1])\n",
    "        self.target_in = tf.compat.v1.placeholder(tf.float32, [1])\n",
    "\n",
    "        self.state = tf.one_hot(self.state_in, depth = self.state_size)\n",
    "        self.action = tf.one_hot(self.action_in, depth = self.action_size)\n",
    "\n",
    "        self.q_state = tf.compat.v1.layers.dense(self.state, units = self.action_size, name = \"q_table\")\n",
    "        self.q_action = tf.reduce_sum(tf.multiply(self.q_state, self.action), axis = 1)\n",
    "\n",
    "        self.loss = tf.reduce_sum(tf.square(self.target_in - self.q_action))\n",
    "        self.optimizer = tf.compat.v1.train.AdamOptimizer(self.learning_rate).minimize(self.loss)\n",
    "        \n",
    "    def get_action(self, state):\n",
    "        # q_state = self.q_table[state]\n",
    "        q_state = self.sess.run(self.q_state, feed_dict={self.state_in: [state]})\n",
    "        action_greedy = np.argmax(q_state)\n",
    "        action_random = super().get_action(state)\n",
    "        return action_random if random.random() < self.eps else action_greedy\n",
    "    \n",
    "    def train(self, experience):\n",
    "        # state, action, next_state, reward, done = experience\n",
    "        state, action, next_state, reward, done = ([exp] for exp in experience)\n",
    "        \n",
    "        # q_next = self.q_table[next_state]\n",
    "        q_next = self.sess.run(self.q_state, feed_dict={self.state_in: next_state})\n",
    "        q_next[done] = np.zeros([self.action_size])\n",
    "        q_target = reward + self.discount_rate * np.max(q_next)\n",
    "        \n",
    "        # q_update = q_target - self.q_table[state,action]\n",
    "        # self.q_table[state,action] += self.learning_rate * q_update\n",
    "\n",
    "        feed = {self.state_in: state, self.action_in: action, self.target_in: q_target}\n",
    "        self.sess.run(self.optimizer, feed_dict=feed)\n",
    "        \n",
    "        if experience[4]:\n",
    "            self.eps = self.eps * 0.99\n",
    "\n",
    "    def __del__(self):\n",
    "        self.sess.close()"
   ]
  },
  {
   "cell_type": "code",
   "execution_count": 69,
   "metadata": {},
   "outputs": [
    {
     "name": "stdout",
     "output_type": "stream",
     "text": [
      "State size: 64\n",
      "Observation space: Discrete(64)\n",
      "Action space: Discrete(4)\n"
     ]
    },
    {
     "name": "stderr",
     "output_type": "stream",
     "text": [
      "/tmp/ipykernel_10789/2208669875.py:25: UserWarning: `tf.layers.dense` is deprecated and will be removed in a future version. Please use `tf.keras.layers.Dense` instead.\n",
      "  self.q_state = tf.compat.v1.layers.dense(self.state, units = self.action_size, name = \"q_table\")\n"
     ]
    }
   ],
   "source": [
    "env = gym.make('FrozenLake-v1', is_slippery=True, map_name='8x8')\n",
    "agent = QNAgent(env)\n",
    "print(\"Observation space:\", env.observation_space)\n",
    "print(\"Action space:\", env.action_space)"
   ]
  },
  {
   "cell_type": "code",
   "execution_count": null,
   "metadata": {},
   "outputs": [],
   "source": [
    "total_reward = 0\n",
    "for ep in range(100):\n",
    "    state = env.reset()\n",
    "    done = False\n",
    "    while not done:\n",
    "        action = agent.get_action(state)\n",
    "        next_state, reward, done, info = env.step(action)\n",
    "        agent.train((state,action,next_state,reward,done))\n",
    "        state = next_state\n",
    "        total_reward += reward\n",
    "        print(\"s:\", state, \"a:\", action)\n",
    "        print(\"Episode: {}, Total reward: {}, eps: {}\".format(ep,total_reward,agent.eps))\n",
    "        env.render()\n",
    "\n",
    "        with tf.compat.v1.variable_scope(\"q_table\", reuse = True):\n",
    "            weights = agent.sess.run(tf.compat.v1.get_variable(\"kernel\"))\n",
    "            print(weights)\n",
    "            # scope.reuse_variables()\n",
    "        #print(agent.q_table)\n",
    "        clear_output(wait=True)"
   ]
  },
  {
   "cell_type": "code",
   "execution_count": 71,
   "metadata": {},
   "outputs": [],
   "source": [
    "env.close()"
   ]
  }
 ],
 "metadata": {
  "kernelspec": {
   "display_name": "Python 3.8.10 ('venv': venv)",
   "language": "python",
   "name": "python3"
  },
  "language_info": {
   "codemirror_mode": {
    "name": "ipython",
    "version": 3
   },
   "file_extension": ".py",
   "mimetype": "text/x-python",
   "name": "python",
   "nbconvert_exporter": "python",
   "pygments_lexer": "ipython3",
   "version": "3.8.10"
  },
  "orig_nbformat": 4,
  "vscode": {
   "interpreter": {
    "hash": "f705859ade82a96f18dc958d5450191525d4211e120fa87a311061ba296b7b96"
   }
  }
 },
 "nbformat": 4,
 "nbformat_minor": 2
}
